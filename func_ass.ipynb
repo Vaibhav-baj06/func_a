{
 "cells": [
  {
   "cell_type": "code",
   "execution_count": null,
   "id": "5353f6b4-b4b3-4d79-bb06-704b7ea7e317",
   "metadata": {},
   "outputs": [],
   "source": [
    "#1. What is the difference between a function and a method in Python?\n",
    "\n",
    "#A function doesn't need any class and independent, but a Method is defined in a class using self arg.\n",
    "#We can call function by its individual name ,but Method is called after defining an object of a class.\n"
   ]
  },
  {
   "cell_type": "code",
   "execution_count": 1,
   "id": "fbb5e578-e6c8-4f34-a5d3-fa151218569b",
   "metadata": {},
   "outputs": [
    {
     "data": {
      "text/plain": [
       "7"
      ]
     },
     "execution_count": 1,
     "metadata": {},
     "output_type": "execute_result"
    }
   ],
   "source": [
    "def func(a,b):\n",
    "    return a+b\n",
    "func(3,4)"
   ]
  },
  {
   "cell_type": "code",
   "execution_count": 6,
   "id": "ac7b4204-18f2-4290-a3eb-4c07ffe49bdc",
   "metadata": {},
   "outputs": [
    {
     "data": {
      "text/plain": [
       "9"
      ]
     },
     "execution_count": 6,
     "metadata": {},
     "output_type": "execute_result"
    }
   ],
   "source": [
    "class Sum:\n",
    "    def fuc(self,a,b):\n",
    "        return a+b\n",
    "    \n",
    "ob = Sum()\n",
    "ob.fuc(4,5)"
   ]
  },
  {
   "cell_type": "code",
   "execution_count": null,
   "id": "7c751078-4fce-41b4-8208-9f0a02ede5e5",
   "metadata": {},
   "outputs": [],
   "source": [
    "#2. Explain the concept of function arguments and parameters in Python.\n",
    "\n",
    "# In Python, an argument is the value passed to a function when it's called.\n",
    "#parameters are the variables inside a function's parentheses.\n",
    "#the value which get assigned to parameters is of arguments"
   ]
  },
  {
   "cell_type": "code",
   "execution_count": 3,
   "id": "6b5e5f47-539a-4ba6-af4c-e6d07a85f2e0",
   "metadata": {},
   "outputs": [
    {
     "data": {
      "text/plain": [
       "3.4000000000000004"
      ]
     },
     "execution_count": 3,
     "metadata": {},
     "output_type": "execute_result"
    }
   ],
   "source": [
    "def simp(a,b):\n",
    "    return a-b\n",
    "simp(8.4,5)  #here a,b are parameters and 8.4,5 are arguments"
   ]
  },
  {
   "cell_type": "code",
   "execution_count": null,
   "id": "25239f8d-91a2-4769-9db7-20061edfa326",
   "metadata": {},
   "outputs": [],
   "source": [
    "#3. What are the different ways to define and call a function in Python?\n",
    "\n",
    "#To define a function we use def keyword.\n",
    "# then we give a specific name to a function.\n",
    "#return statement is also there.\n",
    "# then we call the funcion by given name.\n"
   ]
  },
  {
   "cell_type": "code",
   "execution_count": 4,
   "id": "df24c1fa-6329-4290-ba27-5d02a79bf5d4",
   "metadata": {},
   "outputs": [],
   "source": [
    "def name_of_func():\n",
    "    #write your code \n",
    "    return\n",
    "#calling function\n",
    "name_of_func()"
   ]
  },
  {
   "cell_type": "code",
   "execution_count": null,
   "id": "17c7f559-8aeb-4e3c-b55c-7f9f5a98ede9",
   "metadata": {},
   "outputs": [],
   "source": [
    "#4. What is the purpose of the `return` statement in a Python function?\n",
    "\n",
    "#it marks the end of a function and specifies the value or values to pass back from the function.\n",
    "#can return data of any type, including integers, floats, strings, lists, dictionaries, and even other functions.\n"
   ]
  },
  {
   "cell_type": "code",
   "execution_count": null,
   "id": "c5e02cd7-27aa-4c48-b9be-8e77c2713326",
   "metadata": {},
   "outputs": [],
   "source": [
    "#5. What are iterators in Python and how do they differ from iterables?\n",
    "\n",
    "#An Iterable is basically an object that any user can iterate over like list, string,tuple.\n",
    "#An Iterator is also an object that helps a user in iterating over another object"
   ]
  },
  {
   "cell_type": "code",
   "execution_count": 5,
   "id": "c56f0b12-fbaf-4796-b498-69fc75d21713",
   "metadata": {},
   "outputs": [
    {
     "name": "stdout",
     "output_type": "stream",
     "text": [
      "p\n",
      "w\n",
      "s\n",
      "k\n",
      "i\n",
      "l\n",
      "l\n",
      "s\n"
     ]
    }
   ],
   "source": [
    "#iterable \n",
    "a=\"pwskills\"\n",
    "for i in a:\n",
    "    print(i)"
   ]
  },
  {
   "cell_type": "code",
   "execution_count": 6,
   "id": "991e9b02-c6b2-43ac-9ab6-f9b6bafe7517",
   "metadata": {},
   "outputs": [
    {
     "data": {
      "text/plain": [
       "'p'"
      ]
     },
     "execution_count": 6,
     "metadata": {},
     "output_type": "execute_result"
    }
   ],
   "source": [
    "#iterator\n",
    "a=\"pwskills\"\n",
    "b = iter(a)\n",
    "next(b)\n"
   ]
  },
  {
   "cell_type": "code",
   "execution_count": 7,
   "id": "59a119d5-c314-41bc-bb48-13454635ad82",
   "metadata": {},
   "outputs": [
    {
     "data": {
      "text/plain": [
       "'w'"
      ]
     },
     "execution_count": 7,
     "metadata": {},
     "output_type": "execute_result"
    }
   ],
   "source": [
    "next(b)"
   ]
  },
  {
   "cell_type": "code",
   "execution_count": null,
   "id": "f1f1a177-22b4-4eec-aa83-866a613eeba3",
   "metadata": {},
   "outputs": [],
   "source": [
    "#6. Explain the concept of generators in Python and how they are defined.\n",
    "\n",
    "# A generator is a function that returns an iterator that produces a sequence of values when iterated over.\n",
    "#Generators are useful when we want to produce a large sequence of values, but we don't want to store all of them in memory at once.\n",
    "# Yield keyword is used in place of return statement.\n",
    "\n"
   ]
  },
  {
   "cell_type": "code",
   "execution_count": 11,
   "id": "455adb0f-f469-4feb-a12e-53a58a782c0e",
   "metadata": {},
   "outputs": [
    {
     "data": {
      "text/plain": [
       "[1, 4, 9, 16, 25]"
      ]
     },
     "execution_count": 11,
     "metadata": {},
     "output_type": "execute_result"
    }
   ],
   "source": [
    "def fun(a):\n",
    "    lst=[]\n",
    "    for i in a:\n",
    "        lst.append(i**2)\n",
    "    yield lst\n",
    "b=fun([1,2,3,4,5])\n",
    "next(b)"
   ]
  },
  {
   "cell_type": "code",
   "execution_count": null,
   "id": "ace28359-f1f4-40fe-960e-e52a2a1fa9dc",
   "metadata": {},
   "outputs": [],
   "source": [
    "#7. What are the advantages of using generators over regular functions?\n",
    "\n",
    "#Memory Efficiency: Generators generate values on the fly, reducing memory usage compared to storing the entire sequence in memory.\n",
    "#Lazy Evaluation: Values are computed only when needed, which can lead to performance improvements, especially with large datasets."
   ]
  },
  {
   "cell_type": "code",
   "execution_count": 14,
   "id": "566148a9-d178-4127-ac4d-a275b572cb7a",
   "metadata": {},
   "outputs": [
    {
     "data": {
      "text/plain": [
       "6"
      ]
     },
     "execution_count": 14,
     "metadata": {},
     "output_type": "execute_result"
    }
   ],
   "source": [
    "#8. What is a lambda function in Python and when is it typically used?\n",
    "\n",
    "#anonymous functions means that the function is without a name.\n",
    "# lambda keyword is used to define an anonymous function in Python\n",
    "three=lambda x:x if x%3==0 else 0\n",
    "three(6)"
   ]
  },
  {
   "cell_type": "code",
   "execution_count": 22,
   "id": "8b1e6149-59c6-4ce9-9591-d2862ec8b9de",
   "metadata": {},
   "outputs": [],
   "source": [
    "#9. Explain the purpose and usage of the `map()` function in Python\n",
    "\n",
    "#works as an iterator to return a result after applying a function to every item of an iterable\n",
    "#It is used when you want to apply a single transformation function to all the iterable elements.\n",
    "\n"
   ]
  },
  {
   "cell_type": "code",
   "execution_count": 24,
   "id": "160e1cc6-d137-470a-90db-b820e2658bcc",
   "metadata": {},
   "outputs": [
    {
     "data": {
      "text/plain": [
       "[1, 4, 9, 16, 25]"
      ]
     },
     "execution_count": 24,
     "metadata": {},
     "output_type": "execute_result"
    }
   ],
   "source": [
    "def sqr(a):\n",
    "    return a**2\n",
    "\n",
    "l=[1,2,3,4,5]\n",
    "list(map(sqr,l))"
   ]
  },
  {
   "cell_type": "code",
   "execution_count": null,
   "id": "1c8e099b-cee3-4083-8e08-b1f62541f3de",
   "metadata": {},
   "outputs": [],
   "source": [
    "#10. What is the difference between `map()`, `reduce()`, and `filter()` functions in Python?\n",
    "\n",
    "#Python's reduce() function doesn't return a new sequence like map() and filter().\n",
    "#Instead, it returns a single value. The syntax is similar to the other two functions:\n",
    "#reduce() applies the function to the elements of the sequence, from left to right, starting with the first two elements in the sequence."
   ]
  },
  {
   "cell_type": "code",
   "execution_count": null,
   "id": "69134a2a-419b-464b-a0e1-bb0b85e2d6f5",
   "metadata": {},
   "outputs": [],
   "source": [
    "def sqr(a):\n",
    "    return a**2\n",
    "\n",
    "l=[1,2,3,4,5]\n",
    "list(map(sqr,l))"
   ]
  },
  {
   "cell_type": "code",
   "execution_count": 4,
   "id": "1c8ef6fb-375d-48f5-8ec0-16641e541ec9",
   "metadata": {},
   "outputs": [
    {
     "data": {
      "text/plain": [
       "[1, 2, 3, 4, 56]"
      ]
     },
     "execution_count": 4,
     "metadata": {},
     "output_type": "execute_result"
    }
   ],
   "source": [
    "l = [1,2,3,4,56]\n",
    "list(filter(lambda x:x if x%2==0 else x ,l))"
   ]
  },
  {
   "cell_type": "code",
   "execution_count": null,
   "id": "a300ed6a-fa5c-4c7b-a87c-f02cb9115afd",
   "metadata": {},
   "outputs": [],
   "source": []
  },
  {
   "cell_type": "code",
   "execution_count": null,
   "id": "83d011d6-4f5e-4f00-9e74-51d5a622d3c4",
   "metadata": {},
   "outputs": [],
   "source": [
    "#practical questions"
   ]
  },
  {
   "cell_type": "code",
   "execution_count": 5,
   "id": "5a2764df-c6a7-4a41-aac6-85caf4d7650f",
   "metadata": {},
   "outputs": [
    {
     "data": {
      "text/plain": [
       "12"
      ]
     },
     "execution_count": 5,
     "metadata": {},
     "output_type": "execute_result"
    }
   ],
   "source": [
    "#1. Write a Python function that takes a list of numbers as input and returns the sum of all even numbers in the list.\n",
    "\n",
    "def even_no(a):\n",
    "    count=0\n",
    "    for i in a:\n",
    "        if i%2==0:\n",
    "            count=count+i\n",
    "    return count\n",
    "\n",
    "even_no([1,2,3,4,5,6,7])"
   ]
  },
  {
   "cell_type": "code",
   "execution_count": 6,
   "id": "23d773a7-6998-49b5-b9dd-aa520a1bdaad",
   "metadata": {},
   "outputs": [
    {
     "data": {
      "text/plain": [
       "260"
      ]
     },
     "execution_count": 6,
     "metadata": {},
     "output_type": "execute_result"
    }
   ],
   "source": [
    "even_no([21,44,56,87,92,68])"
   ]
  },
  {
   "cell_type": "code",
   "execution_count": 7,
   "id": "8f662112-2cb6-4e21-a1ce-26f31d41f664",
   "metadata": {},
   "outputs": [
    {
     "data": {
      "text/plain": [
       "'ecnad ybab ojnom'"
      ]
     },
     "execution_count": 7,
     "metadata": {},
     "output_type": "execute_result"
    }
   ],
   "source": [
    "#2. Create a Python function that accepts a string and returns the reverse of that string.\n",
    "\n",
    "def revers(a):\n",
    "    return a[::-1]\n",
    "\n",
    "revers(\"monjo baby dance\")"
   ]
  },
  {
   "cell_type": "code",
   "execution_count": 8,
   "id": "57f68388-62ab-4ee0-a7af-e5a2509338c1",
   "metadata": {},
   "outputs": [
    {
     "data": {
      "text/plain": [
       "[1, 4, 9, 16, 25, 36]"
      ]
     },
     "execution_count": 8,
     "metadata": {},
     "output_type": "execute_result"
    }
   ],
   "source": [
    "#3. Implement a Python function that takes a list of integers and returns a new list containing the squares of each number.\n",
    "\n",
    "def sqr(a):\n",
    "    return a**2\n",
    "\n",
    "list(map(sqr,[1,2,3,4,5,6]))"
   ]
  },
  {
   "cell_type": "code",
   "execution_count": 9,
   "id": "be101ec7-6686-49b8-87ce-925ae5380efd",
   "metadata": {},
   "outputs": [
    {
     "name": "stdout",
     "output_type": "stream",
     "text": [
      "not prime\n"
     ]
    }
   ],
   "source": [
    "#4. Write a Python function that checks if a given number is prime or not from 1 to 200.\n",
    "\n",
    "def prime(a):\n",
    "    count=0\n",
    "    for i in range(1,a+1):\n",
    "        if a%i==0:\n",
    "            count=count+1\n",
    "            \n",
    "    if count ==2:\n",
    "        print(\"prime no\")\n",
    "    else:\n",
    "        print(\"not prime\")\n",
    "        \n",
    "prime(21)       "
   ]
  },
  {
   "cell_type": "code",
   "execution_count": 10,
   "id": "4d42b15a-446b-4f1f-af88-2c8b032888ff",
   "metadata": {},
   "outputs": [
    {
     "name": "stdout",
     "output_type": "stream",
     "text": [
      "prime no\n"
     ]
    }
   ],
   "source": [
    "prime(7)"
   ]
  },
  {
   "cell_type": "code",
   "execution_count": 2,
   "id": "282fd0a5-c940-4c77-a2d5-780dc548646b",
   "metadata": {},
   "outputs": [
    {
     "data": {
      "text/plain": [
       "0"
      ]
     },
     "execution_count": 2,
     "metadata": {},
     "output_type": "execute_result"
    }
   ],
   "source": [
    "#5. Create an iterator class in Python that generates the Fibonacci sequence up to a specified number of terms.\n",
    "\n",
    "def fib(n):\n",
    "    a=0\n",
    "    b=1\n",
    "    for i in range(n):\n",
    "        yield a\n",
    "        a,b=b,a+b\n",
    "    \n",
    "    \n",
    "c=fib(10)\n",
    "next(c)\n",
    "    "
   ]
  },
  {
   "cell_type": "code",
   "execution_count": 5,
   "id": "2fc7a575-a3fb-41bc-8312-bc2309b3c283",
   "metadata": {},
   "outputs": [
    {
     "data": {
      "text/plain": [
       "1"
      ]
     },
     "execution_count": 5,
     "metadata": {},
     "output_type": "execute_result"
    }
   ],
   "source": [
    "#6. Write a generator function in Python that yields the powers of 2 up to a given exponent.\n",
    "\n",
    "def expo(n):\n",
    "    lst=[]\n",
    "    for i in range(n):\n",
    "        if 2**i<= n:\n",
    "            yield 2**i\n",
    "        else:\n",
    "            break\n",
    "    \n",
    "    \n",
    "c = expo(32)\n",
    "next(c)\n"
   ]
  },
  {
   "cell_type": "code",
   "execution_count": 6,
   "id": "28d758e6-4373-466f-9d18-0a363c326335",
   "metadata": {},
   "outputs": [
    {
     "data": {
      "text/plain": [
       "2"
      ]
     },
     "execution_count": 6,
     "metadata": {},
     "output_type": "execute_result"
    }
   ],
   "source": [
    "next(c)"
   ]
  },
  {
   "cell_type": "code",
   "execution_count": 7,
   "id": "5b721d29-d67d-4576-b064-c7709a49f548",
   "metadata": {},
   "outputs": [
    {
     "data": {
      "text/plain": [
       "4"
      ]
     },
     "execution_count": 7,
     "metadata": {},
     "output_type": "execute_result"
    }
   ],
   "source": [
    "next(c)"
   ]
  },
  {
   "cell_type": "code",
   "execution_count": null,
   "id": "4fcb09c5-d7c5-49b6-b0b3-02f3fe6d2c8f",
   "metadata": {},
   "outputs": [],
   "source": [
    "#7. Implement a generator function that reads a file line by line and yields each line as a string.\n",
    "\n",
    "def "
   ]
  },
  {
   "cell_type": "code",
   "execution_count": null,
   "id": "c3dadd6c-9b7b-4d0e-9554-8a6931ad1673",
   "metadata": {},
   "outputs": [],
   "source": []
  },
  {
   "cell_type": "code",
   "execution_count": null,
   "id": "7653bfd6-6f31-4102-8708-6ba173c0a724",
   "metadata": {},
   "outputs": [],
   "source": []
  },
  {
   "cell_type": "code",
   "execution_count": 11,
   "id": "a24f0f7f-c2b0-47d4-8755-653e2e769af1",
   "metadata": {},
   "outputs": [
    {
     "data": {
      "text/plain": [
       "[(1, 2, 3), (4, 5, 6), (7, 8, 9)]"
      ]
     },
     "execution_count": 11,
     "metadata": {},
     "output_type": "execute_result"
    }
   ],
   "source": [
    "#8. Use a lambda function in Python to sort a list of tuples based on the second element of each tuple.\n",
    "\n",
    "lst = [(4,5,6),(1,2,3),(7,8,9)]\n",
    "\n",
    "sorted(lst , key = lambda x:x[1] )"
   ]
  },
  {
   "cell_type": "code",
   "execution_count": 16,
   "id": "d364dff9-c475-4a43-ae93-303c1f7d89b8",
   "metadata": {},
   "outputs": [
    {
     "data": {
      "text/plain": [
       "[73.4, 95.0, 122.0, 131.0, 75.2]"
      ]
     },
     "execution_count": 16,
     "metadata": {},
     "output_type": "execute_result"
    }
   ],
   "source": [
    "#9. Write a Python program that uses `map()` to convert a list of temperatures from Celsius to Fahrenheit.\n",
    "\n",
    "lst=[23,35,50,55,24]\n",
    "\n",
    "def cel_fh(x):\n",
    "    b = (9/5)*x + 32\n",
    "    return b\n",
    "    \n",
    "list(map(cel_fh,lst))    "
   ]
  },
  {
   "cell_type": "code",
   "execution_count": 19,
   "id": "30306add-ad4e-42f4-be3a-1e5bd0dc68dc",
   "metadata": {},
   "outputs": [
    {
     "ename": "AttributeError",
     "evalue": "'str' object has no attribute 'remove'",
     "output_type": "error",
     "traceback": [
      "\u001b[0;31m---------------------------------------------------------------------------\u001b[0m",
      "\u001b[0;31mAttributeError\u001b[0m                            Traceback (most recent call last)",
      "Cell \u001b[0;32mIn[19], line 9\u001b[0m\n\u001b[1;32m      6\u001b[0m             x\u001b[38;5;241m.\u001b[39mremove(x[i])\n\u001b[1;32m      7\u001b[0m     \u001b[38;5;28;01mreturn\u001b[39;00m x\n\u001b[0;32m----> 9\u001b[0m \u001b[38;5;28;43mlist\u001b[39;49m\u001b[43m(\u001b[49m\u001b[38;5;28;43mfilter\u001b[39;49m\u001b[43m(\u001b[49m\u001b[43mstri\u001b[49m\u001b[43m \u001b[49m\u001b[43m,\u001b[49m\u001b[43m \u001b[49m\u001b[38;5;124;43m\"\u001b[39;49m\u001b[38;5;124;43mi am not having any intrest in this course\u001b[39;49m\u001b[38;5;124;43m\"\u001b[39;49m\u001b[43m)\u001b[49m\u001b[43m)\u001b[49m\n",
      "Cell \u001b[0;32mIn[19], line 6\u001b[0m, in \u001b[0;36mstri\u001b[0;34m(x)\u001b[0m\n\u001b[1;32m      4\u001b[0m \u001b[38;5;28;01mfor\u001b[39;00m i \u001b[38;5;129;01min\u001b[39;00m \u001b[38;5;28mrange\u001b[39m(\u001b[38;5;28mlen\u001b[39m(x)):\n\u001b[1;32m      5\u001b[0m     \u001b[38;5;28;01mif\u001b[39;00m x[i]\u001b[38;5;241m==\u001b[39m \u001b[38;5;124m\"\u001b[39m\u001b[38;5;124ma\u001b[39m\u001b[38;5;124m\"\u001b[39m \u001b[38;5;129;01mor\u001b[39;00m \u001b[38;5;124m\"\u001b[39m\u001b[38;5;124me\u001b[39m\u001b[38;5;124m\"\u001b[39m \u001b[38;5;129;01mor\u001b[39;00m \u001b[38;5;124m\"\u001b[39m\u001b[38;5;124mi\u001b[39m\u001b[38;5;124m\"\u001b[39m \u001b[38;5;129;01mor\u001b[39;00m \u001b[38;5;124m\"\u001b[39m\u001b[38;5;124mo\u001b[39m\u001b[38;5;124m\"\u001b[39m \u001b[38;5;129;01mor\u001b[39;00m \u001b[38;5;124m\"\u001b[39m\u001b[38;5;124mu\u001b[39m\u001b[38;5;124m\"\u001b[39m:\n\u001b[0;32m----> 6\u001b[0m         \u001b[43mx\u001b[49m\u001b[38;5;241;43m.\u001b[39;49m\u001b[43mremove\u001b[49m(x[i])\n\u001b[1;32m      7\u001b[0m \u001b[38;5;28;01mreturn\u001b[39;00m x\n",
      "\u001b[0;31mAttributeError\u001b[0m: 'str' object has no attribute 'remove'"
     ]
    }
   ],
   "source": [
    "#10. Create a Python program that uses `filter()` to remove all the vowels from a given string.\n",
    "\n",
    "def stri(x):\n",
    "    for i in range(len(x)):\n",
    "        if x[i]== \"a\" or \"e\" or \"i\" or \"o\" or \"u\":\n",
    "            x.remove(x[i])\n",
    "    return x\n",
    "\n",
    "list(filter(stri , \"i am not having any intrest in this course\"))"
   ]
  },
  {
   "cell_type": "code",
   "execution_count": null,
   "id": "894e8541-c04b-4637-bb4d-a990eb94a8fb",
   "metadata": {},
   "outputs": [],
   "source": [
    "list()"
   ]
  },
  {
   "cell_type": "code",
   "execution_count": null,
   "id": "fa03a51b-7225-4071-a5b8-8c49a9de87c6",
   "metadata": {},
   "outputs": [],
   "source": []
  },
  {
   "cell_type": "code",
   "execution_count": null,
   "id": "f15c702e-4c55-4b31-87c0-0a5d91ef431d",
   "metadata": {},
   "outputs": [],
   "source": []
  }
 ],
 "metadata": {
  "kernelspec": {
   "display_name": "Python 3 (ipykernel)",
   "language": "python",
   "name": "python3"
  },
  "language_info": {
   "codemirror_mode": {
    "name": "ipython",
    "version": 3
   },
   "file_extension": ".py",
   "mimetype": "text/x-python",
   "name": "python",
   "nbconvert_exporter": "python",
   "pygments_lexer": "ipython3",
   "version": "3.10.8"
  }
 },
 "nbformat": 4,
 "nbformat_minor": 5
}
